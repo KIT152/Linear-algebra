{
 "cells": [
  {
   "cell_type": "markdown",
   "metadata": {
    "toc": true
   },
   "source": [
    "<h1>Содержание<span class=\"tocSkip\"></span></h1>\n",
    "<div class=\"toc\"><ul class=\"toc-item\"><li><span><a href=\"#Загрузка-данных\" data-toc-modified-id=\"Загрузка-данных-1\"><span class=\"toc-item-num\">1&nbsp;&nbsp;</span>Загрузка данных</a></span></li><li><span><a href=\"#Умножение-матриц\" data-toc-modified-id=\"Умножение-матриц-2\"><span class=\"toc-item-num\">2&nbsp;&nbsp;</span>Умножение матриц</a></span></li><li><span><a href=\"#Алгоритм-преобразования\" data-toc-modified-id=\"Алгоритм-преобразования-3\"><span class=\"toc-item-num\">3&nbsp;&nbsp;</span>Алгоритм преобразования</a></span></li><li><span><a href=\"#Проверка-алгоритма\" data-toc-modified-id=\"Проверка-алгоритма-4\"><span class=\"toc-item-num\">4&nbsp;&nbsp;</span>Проверка алгоритма</a></span><ul class=\"toc-item\"><li><span><a href=\"#Подготовим-признаки-и-матрицы\" data-toc-modified-id=\"Подготовим-признаки-и-матрицы-4.1\"><span class=\"toc-item-num\">4.1&nbsp;&nbsp;</span>Подготовим признаки и матрицы</a></span></li><li><span><a href=\"#Создадим-модель-LinearRegression\" data-toc-modified-id=\"Создадим-модель-LinearRegression-4.2\"><span class=\"toc-item-num\">4.2&nbsp;&nbsp;</span>Создадим модель LinearRegression</a></span><ul class=\"toc-item\"><li><span><a href=\"#Обучим-на-изначальных-признаках\" data-toc-modified-id=\"Обучим-на-изначальных-признаках-4.2.1\"><span class=\"toc-item-num\">4.2.1&nbsp;&nbsp;</span>Обучим на изначальных признаках</a></span></li><li><span><a href=\"#Обучим-на-новых-признаках\" data-toc-modified-id=\"Обучим-на-новых-признаках-4.2.2\"><span class=\"toc-item-num\">4.2.2&nbsp;&nbsp;</span>Обучим на новых признаках</a></span></li><li><span><a href=\"#Сравним-качество\" data-toc-modified-id=\"Сравним-качество-4.2.3\"><span class=\"toc-item-num\">4.2.3&nbsp;&nbsp;</span>Сравним качество</a></span></li></ul></li></ul></li><li><span><a href=\"#Чек-лист-проверки\" data-toc-modified-id=\"Чек-лист-проверки-5\"><span class=\"toc-item-num\">5&nbsp;&nbsp;</span>Чек-лист проверки</a></span></li></ul></div>"
   ]
  },
  {
   "cell_type": "markdown",
   "metadata": {},
   "source": [
    "# Защита персональных данных клиентов"
   ]
  },
  {
   "cell_type": "markdown",
   "metadata": {},
   "source": [
    "Нужно защитить данные клиентов страховой компании. Разработайте такой метод преобразования данных, чтобы по ним было сложно восстановить персональную информацию. Обоснуйте корректность его работы.\n",
    "\n",
    "Нужно защитить данные, чтобы при преобразовании качество моделей машинного обучения не ухудшилось. Подбирать наилучшую модель не требуется."
   ]
  },
  {
   "cell_type": "markdown",
   "metadata": {},
   "source": [
    "# План работы"
   ]
  },
  {
   "cell_type": "markdown",
   "metadata": {},
   "source": [
    "1) Загрузим и изучим данные.\n",
    "\n",
    "2) Ответим на вопрос:\n",
    " * Признаки умножают на обратимую матрицу. Изменится ли качество линейной регрессии? (Её можно обучить заново.)\n",
    "   * a. Изменится. Приведите примеры матриц.\n",
    "   * b. Не изменится. Укажите, как связаны параметры линейной регрессии в исходной задаче и в преобразованной.\n",
    "   \n",
    "3) Предложим алгоритм преобразования данных для решения задачи. Обоснуйте, почему качество линейной регрессии не поменяется.\n",
    "\n",
    "4) Запрограммируйте этот алгоритм, применив матричные операции. Проверьте, что качество линейной регрессии из sklearn не отличается до и после преобразования. Примените метрику R2."
   ]
  },
  {
   "cell_type": "markdown",
   "metadata": {},
   "source": [
    "## Загрузка данных"
   ]
  },
  {
   "cell_type": "code",
   "execution_count": 1,
   "metadata": {},
   "outputs": [],
   "source": [
    "import pandas as pd\n",
    "import numpy as np\n",
    "from sklearn.metrics import r2_score"
   ]
  },
  {
   "cell_type": "code",
   "execution_count": 2,
   "metadata": {},
   "outputs": [],
   "source": [
    "df = pd.read_csv('/datasets/insurance.csv')"
   ]
  },
  {
   "cell_type": "code",
   "execution_count": 3,
   "metadata": {},
   "outputs": [
    {
     "data": {
      "text/html": [
       "<div>\n",
       "<style scoped>\n",
       "    .dataframe tbody tr th:only-of-type {\n",
       "        vertical-align: middle;\n",
       "    }\n",
       "\n",
       "    .dataframe tbody tr th {\n",
       "        vertical-align: top;\n",
       "    }\n",
       "\n",
       "    .dataframe thead th {\n",
       "        text-align: right;\n",
       "    }\n",
       "</style>\n",
       "<table border=\"1\" class=\"dataframe\">\n",
       "  <thead>\n",
       "    <tr style=\"text-align: right;\">\n",
       "      <th></th>\n",
       "      <th>Пол</th>\n",
       "      <th>Возраст</th>\n",
       "      <th>Зарплата</th>\n",
       "      <th>Члены семьи</th>\n",
       "      <th>Страховые выплаты</th>\n",
       "    </tr>\n",
       "  </thead>\n",
       "  <tbody>\n",
       "    <tr>\n",
       "      <th>0</th>\n",
       "      <td>1</td>\n",
       "      <td>41.0</td>\n",
       "      <td>49600.0</td>\n",
       "      <td>1</td>\n",
       "      <td>0</td>\n",
       "    </tr>\n",
       "    <tr>\n",
       "      <th>1</th>\n",
       "      <td>0</td>\n",
       "      <td>46.0</td>\n",
       "      <td>38000.0</td>\n",
       "      <td>1</td>\n",
       "      <td>1</td>\n",
       "    </tr>\n",
       "    <tr>\n",
       "      <th>2</th>\n",
       "      <td>0</td>\n",
       "      <td>29.0</td>\n",
       "      <td>21000.0</td>\n",
       "      <td>0</td>\n",
       "      <td>0</td>\n",
       "    </tr>\n",
       "    <tr>\n",
       "      <th>3</th>\n",
       "      <td>0</td>\n",
       "      <td>21.0</td>\n",
       "      <td>41700.0</td>\n",
       "      <td>2</td>\n",
       "      <td>0</td>\n",
       "    </tr>\n",
       "    <tr>\n",
       "      <th>4</th>\n",
       "      <td>1</td>\n",
       "      <td>28.0</td>\n",
       "      <td>26100.0</td>\n",
       "      <td>0</td>\n",
       "      <td>0</td>\n",
       "    </tr>\n",
       "  </tbody>\n",
       "</table>\n",
       "</div>"
      ],
      "text/plain": [
       "   Пол  Возраст  Зарплата  Члены семьи  Страховые выплаты\n",
       "0    1     41.0   49600.0            1                  0\n",
       "1    0     46.0   38000.0            1                  1\n",
       "2    0     29.0   21000.0            0                  0\n",
       "3    0     21.0   41700.0            2                  0\n",
       "4    1     28.0   26100.0            0                  0"
      ]
     },
     "execution_count": 3,
     "metadata": {},
     "output_type": "execute_result"
    }
   ],
   "source": [
    "df.head()"
   ]
  },
  {
   "cell_type": "code",
   "execution_count": 4,
   "metadata": {},
   "outputs": [
    {
     "name": "stdout",
     "output_type": "stream",
     "text": [
      "<class 'pandas.core.frame.DataFrame'>\n",
      "RangeIndex: 5000 entries, 0 to 4999\n",
      "Data columns (total 5 columns):\n",
      " #   Column             Non-Null Count  Dtype  \n",
      "---  ------             --------------  -----  \n",
      " 0   Пол                5000 non-null   int64  \n",
      " 1   Возраст            5000 non-null   float64\n",
      " 2   Зарплата           5000 non-null   float64\n",
      " 3   Члены семьи        5000 non-null   int64  \n",
      " 4   Страховые выплаты  5000 non-null   int64  \n",
      "dtypes: float64(2), int64(3)\n",
      "memory usage: 195.4 KB\n"
     ]
    }
   ],
   "source": [
    "df.info()"
   ]
  },
  {
   "cell_type": "code",
   "execution_count": 5,
   "metadata": {},
   "outputs": [
    {
     "data": {
      "text/html": [
       "<div>\n",
       "<style scoped>\n",
       "    .dataframe tbody tr th:only-of-type {\n",
       "        vertical-align: middle;\n",
       "    }\n",
       "\n",
       "    .dataframe tbody tr th {\n",
       "        vertical-align: top;\n",
       "    }\n",
       "\n",
       "    .dataframe thead th {\n",
       "        text-align: right;\n",
       "    }\n",
       "</style>\n",
       "<table border=\"1\" class=\"dataframe\">\n",
       "  <thead>\n",
       "    <tr style=\"text-align: right;\">\n",
       "      <th></th>\n",
       "      <th>Пол</th>\n",
       "      <th>Возраст</th>\n",
       "      <th>Зарплата</th>\n",
       "      <th>Члены семьи</th>\n",
       "      <th>Страховые выплаты</th>\n",
       "    </tr>\n",
       "  </thead>\n",
       "  <tbody>\n",
       "    <tr>\n",
       "      <th>count</th>\n",
       "      <td>5000.000000</td>\n",
       "      <td>5000.000000</td>\n",
       "      <td>5000.000000</td>\n",
       "      <td>5000.000000</td>\n",
       "      <td>5000.000000</td>\n",
       "    </tr>\n",
       "    <tr>\n",
       "      <th>mean</th>\n",
       "      <td>0.499000</td>\n",
       "      <td>30.952800</td>\n",
       "      <td>39916.360000</td>\n",
       "      <td>1.194200</td>\n",
       "      <td>0.148000</td>\n",
       "    </tr>\n",
       "    <tr>\n",
       "      <th>std</th>\n",
       "      <td>0.500049</td>\n",
       "      <td>8.440807</td>\n",
       "      <td>9900.083569</td>\n",
       "      <td>1.091387</td>\n",
       "      <td>0.463183</td>\n",
       "    </tr>\n",
       "    <tr>\n",
       "      <th>min</th>\n",
       "      <td>0.000000</td>\n",
       "      <td>18.000000</td>\n",
       "      <td>5300.000000</td>\n",
       "      <td>0.000000</td>\n",
       "      <td>0.000000</td>\n",
       "    </tr>\n",
       "    <tr>\n",
       "      <th>25%</th>\n",
       "      <td>0.000000</td>\n",
       "      <td>24.000000</td>\n",
       "      <td>33300.000000</td>\n",
       "      <td>0.000000</td>\n",
       "      <td>0.000000</td>\n",
       "    </tr>\n",
       "    <tr>\n",
       "      <th>50%</th>\n",
       "      <td>0.000000</td>\n",
       "      <td>30.000000</td>\n",
       "      <td>40200.000000</td>\n",
       "      <td>1.000000</td>\n",
       "      <td>0.000000</td>\n",
       "    </tr>\n",
       "    <tr>\n",
       "      <th>75%</th>\n",
       "      <td>1.000000</td>\n",
       "      <td>37.000000</td>\n",
       "      <td>46600.000000</td>\n",
       "      <td>2.000000</td>\n",
       "      <td>0.000000</td>\n",
       "    </tr>\n",
       "    <tr>\n",
       "      <th>max</th>\n",
       "      <td>1.000000</td>\n",
       "      <td>65.000000</td>\n",
       "      <td>79000.000000</td>\n",
       "      <td>6.000000</td>\n",
       "      <td>5.000000</td>\n",
       "    </tr>\n",
       "  </tbody>\n",
       "</table>\n",
       "</div>"
      ],
      "text/plain": [
       "               Пол      Возраст      Зарплата  Члены семьи  Страховые выплаты\n",
       "count  5000.000000  5000.000000   5000.000000  5000.000000        5000.000000\n",
       "mean      0.499000    30.952800  39916.360000     1.194200           0.148000\n",
       "std       0.500049     8.440807   9900.083569     1.091387           0.463183\n",
       "min       0.000000    18.000000   5300.000000     0.000000           0.000000\n",
       "25%       0.000000    24.000000  33300.000000     0.000000           0.000000\n",
       "50%       0.000000    30.000000  40200.000000     1.000000           0.000000\n",
       "75%       1.000000    37.000000  46600.000000     2.000000           0.000000\n",
       "max       1.000000    65.000000  79000.000000     6.000000           5.000000"
      ]
     },
     "execution_count": 5,
     "metadata": {},
     "output_type": "execute_result"
    }
   ],
   "source": [
    "df.describe()"
   ]
  },
  {
   "cell_type": "markdown",
   "metadata": {},
   "source": [
    "## Умножение матриц"
   ]
  },
  {
   "cell_type": "markdown",
   "metadata": {},
   "source": [
    "В этом задании вы можете записывать формулы в *Jupyter Notebook.*\n",
    "\n",
    "Чтобы записать формулу внутри текста, окружите её символами доллара \\\\$; если снаружи —  двойными символами \\\\$\\\\$. Эти формулы записываются на языке вёрстки *LaTeX.* \n",
    "\n",
    "Для примера мы записали формулы линейной регрессии. Можете их скопировать и отредактировать, чтобы решить задачу.\n",
    "\n",
    "Работать в *LaTeX* необязательно."
   ]
  },
  {
   "cell_type": "markdown",
   "metadata": {},
   "source": [
    "Обозначения:\n",
    "\n",
    "- $X$ — матрица признаков (нулевой столбец состоит из единиц)\n",
    "\n",
    "- $y$ — вектор целевого признака\n",
    "\n",
    "- $P$ — матрица, на которую умножаются признаки\n",
    "\n",
    "- $w$ — вектор весов линейной регрессии (нулевой элемент равен сдвигу)"
   ]
  },
  {
   "cell_type": "markdown",
   "metadata": {},
   "source": [
    "Предсказания:\n",
    "\n",
    "$$\n",
    "a = Xw\n",
    "$$\n",
    "\n",
    "Задача обучения:\n",
    "\n",
    "$$\n",
    "w = \\arg\\min_w MSE(Xw, y)\n",
    "$$\n",
    "\n",
    "Формула обучения:\n",
    "\n",
    "$$\n",
    "w = (X^T X)^{-1} X^T y\n",
    "$$"
   ]
  },
  {
   "cell_type": "markdown",
   "metadata": {},
   "source": [
    "**Ответ:** Качество линейной регрессии не изменится\n",
    "\n",
    "**Обоснование:** Представим новую матрицу как результат умножения на обратимую матрицу $X_1 = XP$"
   ]
  },
  {
   "cell_type": "markdown",
   "metadata": {},
   "source": [
    "$w_1 = ((XP)^T XP)^{-1} (XP)^T y$"
   ]
  },
  {
   "cell_type": "markdown",
   "metadata": {},
   "source": [
    "Используем свойства матриц:"
   ]
  },
  {
   "cell_type": "markdown",
   "metadata": {},
   "source": [
    "$A(BC) = (AB)C$\n",
    "\n",
    "$(AB)^{-1} = A^{-1} B^{-1}$\n",
    "\n",
    "$(AB)^T = A^T B^T$\n",
    "\n",
    "$(A^T)^{-1} = (A^{-1})^T$\n",
    "\n",
    "$(ABC)^{-1} = C^{-1}B^{-1}A^{-1}$\n",
    "\n",
    "$AA^{-1} = E$\n",
    "\n",
    "$AE = EA = A$\n"
   ]
  },
  {
   "cell_type": "markdown",
   "metadata": {},
   "source": [
    "Выведем по ним нашу формулу:"
   ]
  },
  {
   "cell_type": "markdown",
   "metadata": {},
   "source": [
    "$w_1 = ((XP)^T XP)^{-1} (XP)^T y$ =>\n",
    "\n",
    "$w_1 = (P^T(X^TX)P)^{-1})(XP)^T y$ =>\n",
    "\n",
    "$w_1 = (P^T(X^TX)P)^{-1})P^TX^T y$ =>\n",
    "\n",
    "$ w_1 = P^{-1}(X^TX)^{-1}(P^T)^{-1}P^TX^T y $ =>\n",
    "\n",
    "$ w_1 = P^{-1}(X^TX)^{-1}EX^T y $ =>\n",
    "\n",
    "$ w_1 = P^{-1}w$"
   ]
  },
  {
   "cell_type": "markdown",
   "metadata": {},
   "source": [
    "Подставим получившиеся значения для формулы предсказаний"
   ]
  },
  {
   "cell_type": "markdown",
   "metadata": {},
   "source": [
    "$a_1 = X_1w_1$   =>   $a_1 = XPP^{-1}w$   =>   $a_1 = Xw$"
   ]
  },
  {
   "cell_type": "markdown",
   "metadata": {},
   "source": [
    "**Вывод:** Наши предсказания не изменятся"
   ]
  },
  {
   "cell_type": "markdown",
   "metadata": {},
   "source": [
    "## Алгоритм преобразования"
   ]
  },
  {
   "cell_type": "markdown",
   "metadata": {},
   "source": [
    "**Алгоритм**\n",
    "\n",
    "* Генерируем обратную квадратную матрицу\n",
    "* Умножаем матрицу на сгенерированную\n",
    "* Вычислить качество модели \n",
    "* Сравнить качество модели полученной матрицы с качеством исходной"
   ]
  },
  {
   "cell_type": "markdown",
   "metadata": {},
   "source": [
    "**Обоснование**\n",
    "\n",
    "Исходя из полученных ранее формул качество не должно отличаться"
   ]
  },
  {
   "cell_type": "markdown",
   "metadata": {},
   "source": [
    "## Проверка алгоритма"
   ]
  },
  {
   "cell_type": "markdown",
   "metadata": {},
   "source": [
    "### Подготовим признаки и матрицы"
   ]
  },
  {
   "cell_type": "code",
   "execution_count": 6,
   "metadata": {},
   "outputs": [],
   "source": [
    "features = df.drop('Страховые выплаты', axis=1)\n",
    "target = df['Страховые выплаты']\n",
    "# создадим признаки"
   ]
  },
  {
   "cell_type": "code",
   "execution_count": 7,
   "metadata": {},
   "outputs": [
    {
     "data": {
      "text/plain": [
       "array([[1.00e+00, 4.10e+01, 4.96e+04, 1.00e+00],\n",
       "       [0.00e+00, 4.60e+01, 3.80e+04, 1.00e+00],\n",
       "       [0.00e+00, 2.90e+01, 2.10e+04, 0.00e+00],\n",
       "       ...,\n",
       "       [0.00e+00, 2.00e+01, 3.39e+04, 2.00e+00],\n",
       "       [1.00e+00, 2.20e+01, 3.27e+04, 3.00e+00],\n",
       "       [1.00e+00, 2.80e+01, 4.06e+04, 1.00e+00]])"
      ]
     },
     "execution_count": 7,
     "metadata": {},
     "output_type": "execute_result"
    }
   ],
   "source": [
    "matrix = features.values\n",
    "matrix\n",
    "#сделаем матрицу из наших признаков"
   ]
  },
  {
   "cell_type": "code",
   "execution_count": 8,
   "metadata": {},
   "outputs": [
    {
     "data": {
      "text/plain": [
       "array([[-1.32373162,  0.53385348, -0.83133966, -1.08747399],\n",
       "       [ 0.85142882, -0.43311157, -0.52033417,  0.63511069],\n",
       "       [ 1.90530893,  0.17322142, -0.24015406, -0.69599732],\n",
       "       [ 1.73027373,  0.78281145, -1.17864802,  0.56230694]])"
      ]
     },
     "execution_count": 8,
     "metadata": {},
     "output_type": "execute_result"
    }
   ],
   "source": [
    "matrix_random = np.random.normal(size=(4, 4))\n",
    "matrix_random\n",
    "#сгенерируем матрицу 4x4"
   ]
  },
  {
   "cell_type": "code",
   "execution_count": 9,
   "metadata": {},
   "outputs": [
    {
     "data": {
      "text/plain": [
       "array([[-0.18403608,  0.01034665,  0.34189357,  0.05557694],\n",
       "       [-0.1975088 , -1.28398379, -0.25120037,  0.757329  ],\n",
       "       [-0.57113266, -0.83849522,  0.05692764, -0.08702213],\n",
       "       [-0.35589003, -0.00191366, -0.58300772,  0.37065596]])"
      ]
     },
     "execution_count": 9,
     "metadata": {},
     "output_type": "execute_result"
    }
   ],
   "source": [
    "inmatrix_random = np.linalg.inv(matrix_random)\n",
    "inmatrix_random\n",
    "#сделаем обратимую матрицу"
   ]
  },
  {
   "cell_type": "code",
   "execution_count": 10,
   "metadata": {},
   "outputs": [
    {
     "data": {
      "text/plain": [
       "array([[-28336.81757971, -41641.99803595,   2813.07079257,\n",
       "         -4284.82085087],\n",
       "       [-21712.48226518, -31921.88369772,   2151.11223151,\n",
       "         -3271.63309243],\n",
       "       [-11999.51355462, -17645.6352437 ,   1188.19570456,\n",
       "         -1805.50215717],\n",
       "       ...,\n",
       "       [-19366.05903216, -28450.67161255,   1923.65709475,\n",
       "         -2934.16226364],\n",
       "       [-18681.63478735, -27447.03687778,   1854.60040756,\n",
       "         -2827.79481857],\n",
       "       [-23194.05605127, -34078.84922648,   2303.98760511,\n",
       "         -3511.46697151]])"
      ]
     },
     "execution_count": 10,
     "metadata": {},
     "output_type": "execute_result"
    }
   ],
   "source": [
    "new_matrix = matrix@inmatrix_random\n",
    "new_matrix\n",
    "#умножим основную матрицу на сгенерированную обратную"
   ]
  },
  {
   "cell_type": "code",
   "execution_count": 11,
   "metadata": {},
   "outputs": [
    {
     "data": {
      "text/html": [
       "<div>\n",
       "<style scoped>\n",
       "    .dataframe tbody tr th:only-of-type {\n",
       "        vertical-align: middle;\n",
       "    }\n",
       "\n",
       "    .dataframe tbody tr th {\n",
       "        vertical-align: top;\n",
       "    }\n",
       "\n",
       "    .dataframe thead th {\n",
       "        text-align: right;\n",
       "    }\n",
       "</style>\n",
       "<table border=\"1\" class=\"dataframe\">\n",
       "  <thead>\n",
       "    <tr style=\"text-align: right;\">\n",
       "      <th></th>\n",
       "      <th>Пол</th>\n",
       "      <th>Возраст</th>\n",
       "      <th>Зарплата</th>\n",
       "      <th>Члены семьи</th>\n",
       "    </tr>\n",
       "  </thead>\n",
       "  <tbody>\n",
       "    <tr>\n",
       "      <th>0</th>\n",
       "      <td>-28336.817580</td>\n",
       "      <td>-41641.998036</td>\n",
       "      <td>2813.070793</td>\n",
       "      <td>-4284.820851</td>\n",
       "    </tr>\n",
       "    <tr>\n",
       "      <th>1</th>\n",
       "      <td>-21712.482265</td>\n",
       "      <td>-31921.883698</td>\n",
       "      <td>2151.112232</td>\n",
       "      <td>-3271.633092</td>\n",
       "    </tr>\n",
       "    <tr>\n",
       "      <th>2</th>\n",
       "      <td>-11999.513555</td>\n",
       "      <td>-17645.635244</td>\n",
       "      <td>1188.195705</td>\n",
       "      <td>-1805.502157</td>\n",
       "    </tr>\n",
       "    <tr>\n",
       "      <th>3</th>\n",
       "      <td>-23821.091266</td>\n",
       "      <td>-34992.218347</td>\n",
       "      <td>2367.441514</td>\n",
       "      <td>-3612.177537</td>\n",
       "    </tr>\n",
       "    <tr>\n",
       "      <th>4</th>\n",
       "      <td>-14912.276633</td>\n",
       "      <td>-21920.666558</td>\n",
       "      <td>1479.119781</td>\n",
       "      <td>-2250.016764</td>\n",
       "    </tr>\n",
       "    <tr>\n",
       "      <th>...</th>\n",
       "      <td>...</td>\n",
       "      <td>...</td>\n",
       "      <td>...</td>\n",
       "      <td>...</td>\n",
       "    </tr>\n",
       "    <tr>\n",
       "      <th>4995</th>\n",
       "      <td>-20395.677885</td>\n",
       "      <td>-29970.234887</td>\n",
       "      <td>2024.117250</td>\n",
       "      <td>-3084.743463</td>\n",
       "    </tr>\n",
       "    <tr>\n",
       "      <th>4996</th>\n",
       "      <td>-29934.422422</td>\n",
       "      <td>-43980.807125</td>\n",
       "      <td>2973.884704</td>\n",
       "      <td>-4533.839691</td>\n",
       "    </tr>\n",
       "    <tr>\n",
       "      <th>4997</th>\n",
       "      <td>-19366.059032</td>\n",
       "      <td>-28450.671613</td>\n",
       "      <td>1923.657095</td>\n",
       "      <td>-2934.162264</td>\n",
       "    </tr>\n",
       "    <tr>\n",
       "      <th>4998</th>\n",
       "      <td>-18681.634787</td>\n",
       "      <td>-27447.036878</td>\n",
       "      <td>1854.600408</td>\n",
       "      <td>-2827.794819</td>\n",
       "    </tr>\n",
       "    <tr>\n",
       "      <th>4999</th>\n",
       "      <td>-23194.056051</td>\n",
       "      <td>-34078.849226</td>\n",
       "      <td>2303.987605</td>\n",
       "      <td>-3511.466972</td>\n",
       "    </tr>\n",
       "  </tbody>\n",
       "</table>\n",
       "<p>5000 rows × 4 columns</p>\n",
       "</div>"
      ],
      "text/plain": [
       "               Пол       Возраст     Зарплата  Члены семьи\n",
       "0    -28336.817580 -41641.998036  2813.070793 -4284.820851\n",
       "1    -21712.482265 -31921.883698  2151.112232 -3271.633092\n",
       "2    -11999.513555 -17645.635244  1188.195705 -1805.502157\n",
       "3    -23821.091266 -34992.218347  2367.441514 -3612.177537\n",
       "4    -14912.276633 -21920.666558  1479.119781 -2250.016764\n",
       "...            ...           ...          ...          ...\n",
       "4995 -20395.677885 -29970.234887  2024.117250 -3084.743463\n",
       "4996 -29934.422422 -43980.807125  2973.884704 -4533.839691\n",
       "4997 -19366.059032 -28450.671613  1923.657095 -2934.162264\n",
       "4998 -18681.634787 -27447.036878  1854.600408 -2827.794819\n",
       "4999 -23194.056051 -34078.849226  2303.987605 -3511.466972\n",
       "\n",
       "[5000 rows x 4 columns]"
      ]
     },
     "execution_count": 11,
     "metadata": {},
     "output_type": "execute_result"
    }
   ],
   "source": [
    "new_features = pd.DataFrame(new_matrix, columns = features.columns)\n",
    "new_features"
   ]
  },
  {
   "cell_type": "markdown",
   "metadata": {},
   "source": [
    "### Создадим модель LinearRegression"
   ]
  },
  {
   "cell_type": "code",
   "execution_count": 12,
   "metadata": {},
   "outputs": [],
   "source": [
    "class LinearRegression:\n",
    "    def fit(self, train_features, train_target):\n",
    "        X = np.concatenate((np.ones((train_features.shape[0], 1)), train_features), axis=1)\n",
    "        y = train_target\n",
    "        w = np.linalg.inv(X.T@X)@X.T@y\n",
    "        self.w = w[1:]\n",
    "        self.w0 = w[0]\n",
    "\n",
    "    def predict(self, test_features):\n",
    "        return test_features.dot(self.w) + self.w0"
   ]
  },
  {
   "cell_type": "markdown",
   "metadata": {},
   "source": [
    "#### Обучим на изначальных признаках"
   ]
  },
  {
   "cell_type": "code",
   "execution_count": 13,
   "metadata": {},
   "outputs": [],
   "source": [
    "model = LinearRegression()\n",
    "model.fit(features, target)\n",
    "predictions = model.predict(features)"
   ]
  },
  {
   "cell_type": "markdown",
   "metadata": {},
   "source": [
    "#### Обучим на новых признаках"
   ]
  },
  {
   "cell_type": "code",
   "execution_count": 14,
   "metadata": {},
   "outputs": [],
   "source": [
    "model_new = LinearRegression()\n",
    "model_new.fit(new_features, target)\n",
    "predictions_new = model_new.predict(new_features)"
   ]
  },
  {
   "cell_type": "markdown",
   "metadata": {},
   "source": [
    "#### Сравним качество"
   ]
  },
  {
   "cell_type": "code",
   "execution_count": 15,
   "metadata": {},
   "outputs": [
    {
     "name": "stdout",
     "output_type": "stream",
     "text": [
      "Качество R2 на изначальных признаках: 0.42494550286668\n",
      "Качество R2 на новых признаках: 0.4249455028666642\n"
     ]
    }
   ],
   "source": [
    "print('Качество R2 на изначальных признаках:', r2_score(target, predictions))\n",
    "print('Качество R2 на новых признаках:', r2_score(target, predictions_new))"
   ]
  },
  {
   "cell_type": "markdown",
   "metadata": {},
   "source": [
    "# Вывод:"
   ]
  },
  {
   "cell_type": "markdown",
   "metadata": {},
   "source": [
    "Метрики качества отличаются незначительно, значит вычисления верны"
   ]
  }
 ],
 "metadata": {
  "ExecuteTimeLog": [
   {
    "duration": 409,
    "start_time": "2023-02-02T22:12:54.914Z"
   },
   {
    "duration": 69,
    "start_time": "2023-02-02T23:11:31.695Z"
   },
   {
    "duration": 87,
    "start_time": "2023-02-02T23:11:39.117Z"
   },
   {
    "duration": 21,
    "start_time": "2023-02-02T23:11:44.745Z"
   },
   {
    "duration": 9,
    "start_time": "2023-02-02T23:11:59.963Z"
   },
   {
    "duration": 11,
    "start_time": "2023-02-02T23:12:18.361Z"
   },
   {
    "duration": 461,
    "start_time": "2023-02-15T20:10:10.539Z"
   },
   {
    "duration": 100,
    "start_time": "2023-02-15T20:10:11.003Z"
   },
   {
    "duration": 17,
    "start_time": "2023-02-15T20:10:11.105Z"
   },
   {
    "duration": 11,
    "start_time": "2023-02-15T20:10:11.124Z"
   },
   {
    "duration": 90,
    "start_time": "2023-02-15T20:10:11.138Z"
   },
   {
    "duration": 34,
    "start_time": "2023-02-15T20:10:25.731Z"
   },
   {
    "duration": 5,
    "start_time": "2023-02-15T21:24:19.140Z"
   },
   {
    "duration": 4,
    "start_time": "2023-02-15T22:23:29.696Z"
   },
   {
    "duration": 12,
    "start_time": "2023-02-15T22:25:29.537Z"
   },
   {
    "duration": 798,
    "start_time": "2023-02-15T22:25:39.501Z"
   },
   {
    "duration": 26,
    "start_time": "2023-02-15T22:25:40.301Z"
   },
   {
    "duration": 9,
    "start_time": "2023-02-15T22:25:40.329Z"
   },
   {
    "duration": 46,
    "start_time": "2023-02-15T22:25:40.347Z"
   },
   {
    "duration": 37,
    "start_time": "2023-02-15T22:25:40.395Z"
   },
   {
    "duration": 4,
    "start_time": "2023-02-15T22:25:40.434Z"
   },
   {
    "duration": 25,
    "start_time": "2023-02-15T22:25:40.442Z"
   },
   {
    "duration": 5,
    "start_time": "2023-02-15T22:26:37.137Z"
   },
   {
    "duration": 5,
    "start_time": "2023-02-15T22:26:54.188Z"
   },
   {
    "duration": 5,
    "start_time": "2023-02-15T22:27:17.457Z"
   },
   {
    "duration": 6,
    "start_time": "2023-02-15T22:28:26.428Z"
   },
   {
    "duration": 6,
    "start_time": "2023-02-15T22:28:57.391Z"
   },
   {
    "duration": 3,
    "start_time": "2023-02-15T22:31:04.591Z"
   },
   {
    "duration": 5,
    "start_time": "2023-02-15T22:31:11.470Z"
   },
   {
    "duration": 7,
    "start_time": "2023-02-15T22:31:52.610Z"
   },
   {
    "duration": 42,
    "start_time": "2023-02-15T22:35:05.080Z"
   },
   {
    "duration": 6,
    "start_time": "2023-02-15T22:35:12.209Z"
   },
   {
    "duration": 5,
    "start_time": "2023-02-15T22:35:12.559Z"
   },
   {
    "duration": 66,
    "start_time": "2023-02-15T22:35:12.858Z"
   },
   {
    "duration": 9,
    "start_time": "2023-02-15T22:35:13.191Z"
   },
   {
    "duration": 6,
    "start_time": "2023-02-15T22:35:25.357Z"
   },
   {
    "duration": 17,
    "start_time": "2023-02-15T22:35:26.140Z"
   },
   {
    "duration": 5,
    "start_time": "2023-02-15T22:36:21.876Z"
   },
   {
    "duration": 5,
    "start_time": "2023-02-15T22:37:07.739Z"
   },
   {
    "duration": 16,
    "start_time": "2023-02-15T22:37:58.280Z"
   },
   {
    "duration": 4,
    "start_time": "2023-02-15T22:40:24.892Z"
   },
   {
    "duration": 10,
    "start_time": "2023-02-15T22:41:08.603Z"
   },
   {
    "duration": 6,
    "start_time": "2023-02-15T22:41:14.291Z"
   },
   {
    "duration": 7,
    "start_time": "2023-02-15T22:43:33.793Z"
   },
   {
    "duration": 9,
    "start_time": "2023-02-15T22:43:38.834Z"
   },
   {
    "duration": 6,
    "start_time": "2023-02-15T22:44:38.221Z"
   },
   {
    "duration": 5,
    "start_time": "2023-02-15T22:44:38.673Z"
   },
   {
    "duration": 8,
    "start_time": "2023-02-15T22:45:52.011Z"
   },
   {
    "duration": 3,
    "start_time": "2023-02-15T22:47:27.242Z"
   },
   {
    "duration": 39,
    "start_time": "2023-02-15T22:47:27.248Z"
   },
   {
    "duration": 9,
    "start_time": "2023-02-15T22:47:27.289Z"
   },
   {
    "duration": 30,
    "start_time": "2023-02-15T22:47:27.300Z"
   },
   {
    "duration": 30,
    "start_time": "2023-02-15T22:47:27.332Z"
   },
   {
    "duration": 5,
    "start_time": "2023-02-15T22:47:27.364Z"
   },
   {
    "duration": 11,
    "start_time": "2023-02-15T22:47:27.371Z"
   },
   {
    "duration": 9,
    "start_time": "2023-02-15T22:47:27.384Z"
   },
   {
    "duration": 11,
    "start_time": "2023-02-15T22:47:27.395Z"
   },
   {
    "duration": 11,
    "start_time": "2023-02-15T22:47:27.444Z"
   },
   {
    "duration": 93,
    "start_time": "2023-02-15T22:47:27.457Z"
   },
   {
    "duration": 10,
    "start_time": "2023-02-15T22:47:27.551Z"
   },
   {
    "duration": 82,
    "start_time": "2023-02-15T22:47:27.563Z"
   },
   {
    "duration": 105,
    "start_time": "2023-02-15T22:47:27.651Z"
   },
   {
    "duration": 201,
    "start_time": "2023-02-15T22:47:27.759Z"
   },
   {
    "duration": 1202,
    "start_time": "2023-02-15T22:48:52.342Z"
   },
   {
    "duration": 34,
    "start_time": "2023-02-15T22:48:53.552Z"
   },
   {
    "duration": 22,
    "start_time": "2023-02-15T22:48:53.589Z"
   },
   {
    "duration": 12,
    "start_time": "2023-02-15T22:48:53.613Z"
   },
   {
    "duration": 36,
    "start_time": "2023-02-15T22:48:53.627Z"
   },
   {
    "duration": 6,
    "start_time": "2023-02-15T22:48:53.665Z"
   },
   {
    "duration": 8,
    "start_time": "2023-02-15T22:48:53.673Z"
   },
   {
    "duration": 6,
    "start_time": "2023-02-15T22:48:53.683Z"
   },
   {
    "duration": 10,
    "start_time": "2023-02-15T22:48:53.691Z"
   },
   {
    "duration": 103,
    "start_time": "2023-02-15T22:48:53.740Z"
   },
   {
    "duration": 29,
    "start_time": "2023-02-15T22:48:53.846Z"
   },
   {
    "duration": 7,
    "start_time": "2023-02-15T22:48:53.877Z"
   },
   {
    "duration": 12,
    "start_time": "2023-02-15T22:48:53.886Z"
   },
   {
    "duration": 159,
    "start_time": "2023-02-15T22:48:53.901Z"
   },
   {
    "duration": 86,
    "start_time": "2023-02-15T22:48:54.065Z"
   },
   {
    "duration": 13,
    "start_time": "2023-02-15T22:51:34.085Z"
   },
   {
    "duration": 5,
    "start_time": "2023-02-15T22:51:34.901Z"
   },
   {
    "duration": 1563,
    "start_time": "2023-02-16T11:00:28.887Z"
   },
   {
    "duration": 26,
    "start_time": "2023-02-16T11:00:30.452Z"
   },
   {
    "duration": 36,
    "start_time": "2023-02-16T11:00:30.480Z"
   },
   {
    "duration": 45,
    "start_time": "2023-02-16T11:00:30.517Z"
   },
   {
    "duration": 49,
    "start_time": "2023-02-16T11:00:30.564Z"
   },
   {
    "duration": 26,
    "start_time": "2023-02-16T11:00:30.615Z"
   },
   {
    "duration": 43,
    "start_time": "2023-02-16T11:00:30.642Z"
   },
   {
    "duration": 44,
    "start_time": "2023-02-16T11:00:30.687Z"
   },
   {
    "duration": 41,
    "start_time": "2023-02-16T11:00:30.732Z"
   },
   {
    "duration": 49,
    "start_time": "2023-02-16T11:00:30.775Z"
   },
   {
    "duration": 88,
    "start_time": "2023-02-16T11:00:30.826Z"
   },
   {
    "duration": 60,
    "start_time": "2023-02-16T11:00:30.916Z"
   },
   {
    "duration": 23,
    "start_time": "2023-02-16T11:00:30.978Z"
   },
   {
    "duration": 108,
    "start_time": "2023-02-16T11:00:31.004Z"
   },
   {
    "duration": 190,
    "start_time": "2023-02-16T11:00:31.117Z"
   }
  ],
  "kernelspec": {
   "display_name": "Python 3 (ipykernel)",
   "language": "python",
   "name": "python3"
  },
  "language_info": {
   "codemirror_mode": {
    "name": "ipython",
    "version": 3
   },
   "file_extension": ".py",
   "mimetype": "text/x-python",
   "name": "python",
   "nbconvert_exporter": "python",
   "pygments_lexer": "ipython3",
   "version": "3.9.13"
  },
  "toc": {
   "base_numbering": 1,
   "nav_menu": {},
   "number_sections": true,
   "sideBar": true,
   "skip_h1_title": true,
   "title_cell": "Содержание",
   "title_sidebar": "Contents",
   "toc_cell": true,
   "toc_position": {},
   "toc_section_display": true,
   "toc_window_display": true
  }
 },
 "nbformat": 4,
 "nbformat_minor": 2
}
